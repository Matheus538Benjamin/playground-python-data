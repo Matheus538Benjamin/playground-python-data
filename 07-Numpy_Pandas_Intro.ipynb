{
 "cells": [
  {
   "cell_type": "markdown",
   "metadata": {},
   "source": [
    "# Introdução a NumPy e Pandas\n",
    "\n",
    "O NumPy é ótimo para armazenar e manipular dados numéricos em matrizes.\n",
    "\n",
    "## NumPy: Exemplo\n",
    "\n",
    "\"Resenha de Filme\" é um site de resenhas de filmes onde quatro bons amigos e críticos de filmes: Luísa, Maria, Tony e Kaio assistem a filmes e dão a eles notas em uma escala de 0 a 100."
   ]
  },
  {
   "cell_type": "code",
   "execution_count": null,
   "metadata": {},
   "outputs": [],
   "source": [
    "import numpy as np"
   ]
  },
  {
   "cell_type": "markdown",
   "metadata": {},
   "source": [
    "Quando toda a turma classifica um filme, podemos armazenar suas classificações em um array NumPy `movie_ratings`:"
   ]
  },
  {
   "cell_type": "code",
   "execution_count": null,
   "metadata": {},
   "outputs": [],
   "source": [
    "movie_ratings = np.array([63.0, 54.0, 70.0, 50.0])\n",
    "movie_ratings.dtype"
   ]
  },
  {
   "cell_type": "markdown",
   "metadata": {},
   "source": [
    "Mas eles assistem a mais de um filme, então temos que criar uma matriz bidimensional onde cada linha contém suas classificações para um filme específico."
   ]
  },
  {
   "cell_type": "code",
   "execution_count": null,
   "metadata": {},
   "outputs": [],
   "source": [
    "movie_ratings = np.array([[63.0, 54.0, 70.0, 50.0],\n",
    "                          [94.0, 85.0, 89.0, 95.0],\n",
    "                          [64.0, 90.0, 73.0, 85.0]])\n",
    "# movie_ratings = np.vstack([movie_ratings, [80.0, 50.0, 70.0, 50.0]])\n",
    "movie_ratings = np.concatenate([movie_ratings, [[80.0, 50.0, 70.0, 50.0]]])\n",
    "movie_ratings"
   ]
  },
  {
   "cell_type": "markdown",
   "metadata": {},
   "source": [
    "Alguns fãs preferem que os filmes sejam classificados em uma escala de cinco estrelas, então podemos usar o NumPy para dividir facilmente cada elemento por 20."
   ]
  },
  {
   "cell_type": "code",
   "execution_count": null,
   "metadata": {},
   "outputs": [],
   "source": [
    "movie_ratings_stars = movie_ratings / 20\n",
    "movie_ratings_stars"
   ]
  },
  {
   "cell_type": "markdown",
   "metadata": {},
   "source": [
    "Agora, digamos que as classificações estejam sempre na mesma ordem (Luísa, Maria, Tony, Kaio). Se quiséssemos criar uma matriz que tivesse apenas as classificações de Tony, poderíamos selecioná-las em nossa matriz movie_ratings."
   ]
  },
  {
   "cell_type": "code",
   "execution_count": null,
   "metadata": {},
   "outputs": [],
   "source": [
    "tony_ratings = movie_ratings[:, 2]\n",
    "tony_ratings"
   ]
  },
  {
   "cell_type": "markdown",
   "metadata": {},
   "source": [
    "Agora, digamos que descobrimos que temos gostos muito parecidos com os de Maria, então queremos ver apenas filmes aos quais ele dá uma boa classificação. Podemos usar a lógica para selecionar esses filmes.\n",
    "\n",
    "Vamos selecionar todas as classificações de Maria que são acima de 80:"
   ]
  },
  {
   "cell_type": "code",
   "execution_count": null,
   "metadata": {},
   "outputs": [],
   "source": [
    "maria_ratings = movie_ratings[:, 1]\n",
    "maria_ratings[maria_ratings > 80]"
   ]
  },
  {
   "cell_type": "markdown",
   "metadata": {},
   "source": [
    "Para obter as classificações das mulheres e dos homens, separadamente, considerando a ordem dos elementos, temos o seguinte:"
   ]
  },
  {
   "cell_type": "code",
   "execution_count": null,
   "metadata": {},
   "outputs": [],
   "source": [
    "movie_ratings = np.vsplit(movie_ratings, 2)\n",
    "movie_ratings"
   ]
  },
  {
   "cell_type": "markdown",
   "metadata": {},
   "source": [
    "## NumPy: Exercício\n",
    "\n",
    "Joana está pensando em abrir uma confeitaria e precisará começar a comprar todo o seu leite, ovos, açúcar, farinha e manteiga a granel.\n",
    "\n",
    "Ajude ela a descobrir quanto precisa comprar usando matrizes NumPy que descrevem suas receitas.\n",
    "\n",
    "Por exemplo, sua receita de cupcake pede:\n",
    "\n",
    "- Farinha\t - 2 xícaras\n",
    "- Açúcar - 0,75 xícaras\t\n",
    "- Ovos - 2 ovos\t\n",
    "- Leite - 1 xícaras\n",
    "- Manteiga - 0,5 xícaras\n",
    "\n",
    "Crie um array NumPy que represente esses dados. Cada elemento deve ser um número (por exemplo, 2 para \"2 xícaras\"). Salve esse array como `cupcakes`."
   ]
  },
  {
   "cell_type": "code",
   "execution_count": null,
   "metadata": {},
   "outputs": [],
   "source": [
    "# solução\n",
    "cupcakes = np.array([2, 0.75, 2, 1, 0.5])\n",
    "cupcakes"
   ]
  },
  {
   "cell_type": "markdown",
   "metadata": {},
   "source": [
    "A assistente de Joana compilou todas as suas receitas em um arquivo csv (comma-separated variable) chamado `recipes.csv`. Carregue esse arquivo em uma variável chamada `recipes`. Cada linha representa uma receita diferente. Cada coluna representa um ingrediente diferente."
   ]
  },
  {
   "cell_type": "code",
   "execution_count": null,
   "metadata": {},
   "outputs": [],
   "source": [
    "# solução\n",
    "recipes = np.genfromtxt('recipes.csv', delimiter=',')\n",
    "recipes"
   ]
  },
  {
   "cell_type": "markdown",
   "metadata": {},
   "source": [
    "A 3ª coluna representa o número de ovos que cada receita necessita.\n",
    "\n",
    "Selecione todos os elementos da 3ª coluna e salve-os na variável `eggs`."
   ]
  },
  {
   "cell_type": "code",
   "execution_count": null,
   "metadata": {},
   "outputs": [],
   "source": [
    "# solução\n",
    "eggs = recipes[:,2]\n",
    "eggs"
   ]
  },
  {
   "cell_type": "markdown",
   "metadata": {},
   "source": [
    "Quais receitas exigem exatamente 1 ovo? Use uma declaração lógica para obter True ou False para cada valor de `eggs`"
   ]
  },
  {
   "cell_type": "code",
   "execution_count": null,
   "metadata": {},
   "outputs": [],
   "source": [
    "# solução\n",
    "one_egg = eggs[eggs == 1]\n",
    "one_egg"
   ]
  },
  {
   "cell_type": "markdown",
   "metadata": {},
   "source": [
    "Joana fará 2 fornadas de cupcakes (1ª fileira) e 1 fornada de biscoitos (3ª fileira).\n",
    "\n",
    "Você já tem uma variável para `cupcakes`. Crie uma variável `cookies` com os dados da 3ª linha."
   ]
  },
  {
   "cell_type": "code",
   "execution_count": null,
   "metadata": {},
   "outputs": [],
   "source": [
    "# solução\n",
    "cookies = np.array(recipes[2]) # ou recipes[2] somente\n",
    "cookies"
   ]
  },
  {
   "cell_type": "markdown",
   "metadata": {},
   "source": [
    "Obtenha o número de ingredientes para uma porção dupla de cupcakes usando multiplicação em `cupcakes`. Salve sua nova variável em `double_batch`."
   ]
  },
  {
   "cell_type": "code",
   "execution_count": null,
   "metadata": {},
   "outputs": [],
   "source": [
    "# solução\n",
    "double_batch = cupcakes * 2\n",
    "double_batch"
   ]
  },
  {
   "cell_type": "markdown",
   "metadata": {},
   "source": [
    "Crie uma nova variável chamada `grocery_list` adicionando `cookies` e `double_batch`."
   ]
  },
  {
   "cell_type": "code",
   "execution_count": null,
   "metadata": {},
   "outputs": [],
   "source": [
    "# solução\n",
    "grocery_list = np.array([cookies, double_batch])\n",
    "grocery_list"
   ]
  },
  {
   "cell_type": "markdown",
   "metadata": {},
   "source": [
    "## Pandas: Uma breve introdução\n",
    "\n",
    "O Pandas pode nos fornecer respostas sobre os dados, como por exemplo:\n",
    "\n",
    "Existe uma correlação entre duas ou mais colunas? Qual é o valor médio? Qual o valor máximo? Qual o valor mínimo? O Pandas também é capaz de excluir linhas que são irrelevantes ou que contêm valores incorretos, como valores vazios ou NULL, deixando os dados limpos. \n",
    "\n",
    "Relacionando inicialmente as funções do NumPy com o Pandas, poderíamos gerar uma série com os dados da porção dupla de cupcakes:"
   ]
  },
  {
   "cell_type": "code",
   "execution_count": null,
   "metadata": {},
   "outputs": [],
   "source": [
    "import pandas as pd"
   ]
  },
  {
   "cell_type": "code",
   "execution_count": null,
   "metadata": {},
   "outputs": [],
   "source": [
    "double_batch_series = pd.Series(double_batch)\n",
    "double_batch_series"
   ]
  },
  {
   "cell_type": "markdown",
   "metadata": {},
   "source": [
    "Podemos gerar um DataFrame a partir de várias Series:"
   ]
  },
  {
   "cell_type": "code",
   "execution_count": null,
   "metadata": {},
   "outputs": [],
   "source": [
    "df = pd.DataFrame(recipes)\n",
    "df"
   ]
  },
  {
   "cell_type": "markdown",
   "metadata": {},
   "source": [
    "Por exemplo, se precisássemos listar as nossas compras do supermercado, teríamos algo semelhante a isso:"
   ]
  },
  {
   "cell_type": "code",
   "execution_count": null,
   "metadata": {},
   "outputs": [],
   "source": [
    "df = pd.DataFrame(recipes, columns=['Flour', 'Sugar', 'Eggs', 'Milk', 'Butter'])\n",
    "df\n"
   ]
  },
  {
   "cell_type": "code",
   "execution_count": null,
   "metadata": {},
   "outputs": [],
   "source": [
    "df2 = pd.read_csv('recipes.csv', delimiter=',', names=['Flour', 'Sugar', 'Eggs', 'Milk', 'Butter'])\n",
    "df2"
   ]
  },
  {
   "cell_type": "markdown",
   "metadata": {},
   "source": [
    "## Exercícios da aula"
   ]
  },
  {
   "cell_type": "code",
   "execution_count": null,
   "metadata": {},
   "outputs": [],
   "source": [
    "# exercício 1\n",
    "# Crie um array NumPy com 10 elementos inteiros aleatórios no intervalo [0, 100] \n",
    "# e exiba os valores e o tipo de dado do array.\n",
    "\n",
    "array_10 = np.random.randint(0,100,10)\n",
    "print(array_10)\n",
    "print(array_10.dtype)"
   ]
  },
  {
   "cell_type": "code",
   "execution_count": null,
   "metadata": {},
   "outputs": [],
   "source": [
    "# exercício 2\n",
    "# Crie uma matriz de 5x5 com valores aleatórios de [0,1) e encontre o valor mínimo, máximo e a média da matriz.\n",
    "\n",
    "matriz_5_5 = np.random.rand(5,5)\n",
    "print(matriz_5_5)\n",
    "print(matriz_5_5.min())\n",
    "print(matriz_5_5.max())\n",
    "print(matriz_5_5.mean())\n"
   ]
  },
  {
   "cell_type": "code",
   "execution_count": null,
   "metadata": {},
   "outputs": [],
   "source": [
    "# exercício 3\n",
    "# Crie um array com 10 elementos aleatórios no intervalo [0, 1]. \n",
    "# Em seguida, crie um novo array com os elementos do primeiro array multiplicados por 10 e convertidos para inteiro.\n",
    "\n",
    "matriz_10 = np.random.rand(10)\n",
    "print(matriz_10)\n",
    "matriz_10_int = np.round(matriz_10 * 10).astype(int) # direto, round, trunc, ceil (para cima), floor (para baixo)\n",
    "print(matriz_10_int)\n",
    "\n",
    "matriz_10_int = np.trunc(matriz_10 * 10).astype(int) \n",
    "print(matriz_10_int)\n",
    "\n",
    "matriz_10_int = np.ceil(matriz_10 * 10).astype(int) \n",
    "print(matriz_10_int)\n",
    "\n",
    "matriz_10_int = np.floor(matriz_10 * 10).astype(int) \n",
    "print(matriz_10_int)\n"
   ]
  },
  {
   "cell_type": "code",
   "execution_count": null,
   "metadata": {},
   "outputs": [],
   "source": [
    "# exercício 4 \n",
    "# Crie um array de duas dimensões com shape (3, 3) e valores aleatórios inteiros no intervalo [0, 9]. \n",
    "# Substitua todos os elementos da segunda linha por -1.\n",
    "\n",
    "matriz = np.random.randint(0, 10, (3, 3))\n",
    "matriz[1, :] = -1\n",
    "print(f\"matriz modificada:\\n {matriz}\")"
   ]
  },
  {
   "cell_type": "code",
   "execution_count": null,
   "metadata": {},
   "outputs": [],
   "source": [
    "# exercício 5\n",
    "# Crie um DataFrame com as seguintes informações:\n",
    "# Coluna \"fruta\": \"Banana\", \"Maça\", \"Pera\"\n",
    "# Coluna \"preco\": 7.90, 10.20, 11.80\n",
    "# Coluna \"quantidade\": 12, 3, 4\n",
    "\n",
    "feira = np.array([[\"Banana\", \"Maça\", \"Pera\"],[7.90, 10.20, 11.80], [12, 3, 4]])\n",
    "df = pd.DataFrame(feira, columns=[\"fruta\", \"preço\", \"quantidade\"])\n",
    "df\n",
    "\n"
   ]
  }
 ],
 "metadata": {
  "kernelspec": {
   "display_name": "Python 3",
   "language": "python",
   "name": "python3"
  },
  "language_info": {
   "codemirror_mode": {
    "name": "ipython",
    "version": 3
   },
   "file_extension": ".py",
   "mimetype": "text/x-python",
   "name": "python",
   "nbconvert_exporter": "python",
   "pygments_lexer": "ipython3",
   "version": "3.11.5"
  }
 },
 "nbformat": 4,
 "nbformat_minor": 2
}
