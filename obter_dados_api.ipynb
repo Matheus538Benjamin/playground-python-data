{
 "cells": [
  {
   "cell_type": "markdown",
   "metadata": {},
   "source": [
    "# 📘 Descrição do Notebook\n",
    "\n",
    "Este notebook realiza a **extração, tratamento, armazenamento e validação de dados** da **Pokémon API**, com foco nos Pokémons **Charmander**, **Charmeleon** e **Charizard**.\n",
    "\n",
    "Agora também integra as **habilidades** de cada Pokémon e implementa um sistema de alerta avançado, inspirado no modelo da Aula 20.\n",
    "\n",
    "---\n",
    "\n",
    "## 🔹 Primeiro passo: Mensagem de Alerta\n",
    "- Implementação da função `alerta()` para gerar mensagens personalizadas em caso de erro de requisição ou eventos específicos durante a execução do notebook.\n",
    "\n",
    "## 🔹 Etapa 1: Extração dos Dados\n",
    "- Utilização da biblioteca `requests` para acessar a API pública da PokéAPI;\n",
    "- Extração dos dados principais dos Pokémons, como Nome, Experiência Base, Altura, Peso e ID.\n",
    "\n",
    "## 🔹 Etapa 2: Coleta e Organização\n",
    "- Coleta dos dados dos Pokémons selecionados (Charmander, Charmeleon e Charizard);\n",
    "- Organização dos dados coletados em um `DataFrame` do pandas.\n",
    "\n",
    "## 🔹 Etapa 3: Tratamento dos Dados\n",
    "- Padronização dos nomes das colunas com `str.title()`;\n",
    "- Preenchimento de valores ausentes com `fillna(0)`;\n",
    "- Conversão dos tipos de dados (altura e peso para `float`);\n",
    "- Padronização dos nomes dos Pokémons.\n",
    "\n",
    "## 🔹 Etapa 4: Armazenamento no SQLite\n",
    "- Utilização do `sqlite3` para criar e conectar a um banco de dados local (`pokemons_v4.db`);\n",
    "- Salvamento dos dados tratados na tabela `tabela_pokemons`.\n",
    "\n",
    "## 🔹 Etapa 5: Validação\n",
    "- Leitura dos dados diretamente do banco de dados SQLite;\n",
    "- Exibição da tabela recuperada para conferência com `display()`.\n",
    "\n",
    "## 🔹 Etapa 6: Sistema de Alerta\n",
    "- Verificação automática de Pokémons com **experiência base acima de 200**;\n",
    "- Geração de alertas personalizados destacando o nome do Pokémon e seu valor de experiência.\n",
    "\n",
    "---\n",
    "\n",
    "> 💡 Este notebook demonstra, na prática, como integrar múltiplas APIs, tratar dados com `pandas`, salvar informações em banco de dados local com `sqlite3` e implementar um sistema de alerta automático para eventos específicos.\n",
    "\n",
    "\n"
   ]
  },
  {
   "cell_type": "code",
   "execution_count": 1,
   "metadata": {},
   "outputs": [],
   "source": [
    "import requests\n",
    "import pandas as pd\n",
    "import sqlite3\n",
    "\n",
    "def alerta(mensagem):\n",
    "    print(f\"🚨 Alerta: {mensagem}\")"
   ]
  },
  {
   "cell_type": "markdown",
   "metadata": {},
   "source": [
    "## Etapa 1: Extração dos Dados"
   ]
  },
  {
   "cell_type": "code",
   "execution_count": 2,
   "metadata": {},
   "outputs": [],
   "source": [
    "def extrair_dados_pokemon(id_pokemon):\n",
    "    url = f'https://pokeapi.co/api/v2/pokemon/{id_pokemon}'\n",
    "    res = requests.get(url)\n",
    "    if res.status_code != 200:\n",
    "        alerta(f\"Erro ao acessar Pokémon ID {id_pokemon}\")\n",
    "        return None\n",
    "    data = res.json()\n",
    "    return {\n",
    "        'ID': data['id'],\n",
    "        'Nome': data['name'].title(),\n",
    "        'Experiência Base': data['base_experience'],\n",
    "        'Altura': data['height'],\n",
    "        'Peso': data['weight'],\n",
    "        'Habilidades': ', '.join([h['ability']['name'] for h in data['abilities']])\n",
    "    }"
   ]
  },
  {
   "cell_type": "markdown",
   "metadata": {},
   "source": [
    "## Etapa 2: Coleta e Organização"
   ]
  },
  {
   "cell_type": "code",
   "execution_count": 3,
   "metadata": {},
   "outputs": [
    {
     "data": {
      "text/html": [
       "<div>\n",
       "<style scoped>\n",
       "    .dataframe tbody tr th:only-of-type {\n",
       "        vertical-align: middle;\n",
       "    }\n",
       "\n",
       "    .dataframe tbody tr th {\n",
       "        vertical-align: top;\n",
       "    }\n",
       "\n",
       "    .dataframe thead th {\n",
       "        text-align: right;\n",
       "    }\n",
       "</style>\n",
       "<table border=\"1\" class=\"dataframe\">\n",
       "  <thead>\n",
       "    <tr style=\"text-align: right;\">\n",
       "      <th></th>\n",
       "      <th>ID</th>\n",
       "      <th>Nome</th>\n",
       "      <th>Experiência Base</th>\n",
       "      <th>Altura</th>\n",
       "      <th>Peso</th>\n",
       "      <th>Habilidades</th>\n",
       "    </tr>\n",
       "  </thead>\n",
       "  <tbody>\n",
       "    <tr>\n",
       "      <th>0</th>\n",
       "      <td>4</td>\n",
       "      <td>Charmander</td>\n",
       "      <td>62</td>\n",
       "      <td>6</td>\n",
       "      <td>85</td>\n",
       "      <td>blaze, solar-power</td>\n",
       "    </tr>\n",
       "    <tr>\n",
       "      <th>1</th>\n",
       "      <td>5</td>\n",
       "      <td>Charmeleon</td>\n",
       "      <td>142</td>\n",
       "      <td>11</td>\n",
       "      <td>190</td>\n",
       "      <td>blaze, solar-power</td>\n",
       "    </tr>\n",
       "    <tr>\n",
       "      <th>2</th>\n",
       "      <td>6</td>\n",
       "      <td>Charizard</td>\n",
       "      <td>267</td>\n",
       "      <td>17</td>\n",
       "      <td>905</td>\n",
       "      <td>blaze, solar-power</td>\n",
       "    </tr>\n",
       "  </tbody>\n",
       "</table>\n",
       "</div>"
      ],
      "text/plain": [
       "   ID        Nome  Experiência Base  Altura  Peso         Habilidades\n",
       "0   4  Charmander                62       6    85  blaze, solar-power\n",
       "1   5  Charmeleon               142      11   190  blaze, solar-power\n",
       "2   6   Charizard               267      17   905  blaze, solar-power"
      ]
     },
     "metadata": {},
     "output_type": "display_data"
    }
   ],
   "source": [
    "pokemons = [4, 5, 6]  # Charmander, Charmeleon, Charizard\n",
    "dados = []\n",
    "for pid in pokemons:\n",
    "    d = extrair_dados_pokemon(pid)\n",
    "    if d:\n",
    "        dados.append(d)\n",
    "df_pokemons = pd.DataFrame(dados)\n",
    "display(df_pokemons)"
   ]
  },
  {
   "cell_type": "markdown",
   "metadata": {},
   "source": [
    "## Etapa 3: Tratamento dos Dados"
   ]
  },
  {
   "cell_type": "code",
   "execution_count": 4,
   "metadata": {},
   "outputs": [
    {
     "data": {
      "text/html": [
       "<div>\n",
       "<style scoped>\n",
       "    .dataframe tbody tr th:only-of-type {\n",
       "        vertical-align: middle;\n",
       "    }\n",
       "\n",
       "    .dataframe tbody tr th {\n",
       "        vertical-align: top;\n",
       "    }\n",
       "\n",
       "    .dataframe thead th {\n",
       "        text-align: right;\n",
       "    }\n",
       "</style>\n",
       "<table border=\"1\" class=\"dataframe\">\n",
       "  <thead>\n",
       "    <tr style=\"text-align: right;\">\n",
       "      <th></th>\n",
       "      <th>Id</th>\n",
       "      <th>Nome</th>\n",
       "      <th>Experiência Base</th>\n",
       "      <th>Altura</th>\n",
       "      <th>Peso</th>\n",
       "      <th>Habilidades</th>\n",
       "    </tr>\n",
       "  </thead>\n",
       "  <tbody>\n",
       "    <tr>\n",
       "      <th>0</th>\n",
       "      <td>4</td>\n",
       "      <td>Charmander</td>\n",
       "      <td>62</td>\n",
       "      <td>6.0</td>\n",
       "      <td>85.0</td>\n",
       "      <td>blaze, solar-power</td>\n",
       "    </tr>\n",
       "    <tr>\n",
       "      <th>1</th>\n",
       "      <td>5</td>\n",
       "      <td>Charmeleon</td>\n",
       "      <td>142</td>\n",
       "      <td>11.0</td>\n",
       "      <td>190.0</td>\n",
       "      <td>blaze, solar-power</td>\n",
       "    </tr>\n",
       "    <tr>\n",
       "      <th>2</th>\n",
       "      <td>6</td>\n",
       "      <td>Charizard</td>\n",
       "      <td>267</td>\n",
       "      <td>17.0</td>\n",
       "      <td>905.0</td>\n",
       "      <td>blaze, solar-power</td>\n",
       "    </tr>\n",
       "  </tbody>\n",
       "</table>\n",
       "</div>"
      ],
      "text/plain": [
       "   Id        Nome  Experiência Base  Altura   Peso         Habilidades\n",
       "0   4  Charmander                62     6.0   85.0  blaze, solar-power\n",
       "1   5  Charmeleon               142    11.0  190.0  blaze, solar-power\n",
       "2   6   Charizard               267    17.0  905.0  blaze, solar-power"
      ]
     },
     "metadata": {},
     "output_type": "display_data"
    }
   ],
   "source": [
    "df_pokemons.columns = df_pokemons.columns.str.title()\n",
    "df_pokemons = df_pokemons.fillna(0)\n",
    "df_pokemons['Altura'] = df_pokemons['Altura'].astype(float)\n",
    "df_pokemons['Peso'] = df_pokemons['Peso'].astype(float)\n",
    "display(df_pokemons)"
   ]
  },
  {
   "cell_type": "markdown",
   "metadata": {},
   "source": [
    "## Etapa 4: Armazenamento no SQLite"
   ]
  },
  {
   "cell_type": "code",
   "execution_count": 5,
   "metadata": {},
   "outputs": [
    {
     "name": "stdout",
     "output_type": "stream",
     "text": [
      "Dados salvos no banco pokemons_v4.db\n"
     ]
    }
   ],
   "source": [
    "with sqlite3.connect('pokemons_v4.db') as conn:\n",
    "    df_pokemons.to_sql('tabela_pokemons', conn, if_exists='replace', index=False)\n",
    "print('Dados salvos no banco pokemons_v4.db')"
   ]
  },
  {
   "cell_type": "markdown",
   "metadata": {},
   "source": [
    "## Etapa 5: Validação"
   ]
  },
  {
   "cell_type": "code",
   "execution_count": 6,
   "metadata": {},
   "outputs": [
    {
     "data": {
      "text/html": [
       "<div>\n",
       "<style scoped>\n",
       "    .dataframe tbody tr th:only-of-type {\n",
       "        vertical-align: middle;\n",
       "    }\n",
       "\n",
       "    .dataframe tbody tr th {\n",
       "        vertical-align: top;\n",
       "    }\n",
       "\n",
       "    .dataframe thead th {\n",
       "        text-align: right;\n",
       "    }\n",
       "</style>\n",
       "<table border=\"1\" class=\"dataframe\">\n",
       "  <thead>\n",
       "    <tr style=\"text-align: right;\">\n",
       "      <th></th>\n",
       "      <th>Id</th>\n",
       "      <th>Nome</th>\n",
       "      <th>Experiência Base</th>\n",
       "      <th>Altura</th>\n",
       "      <th>Peso</th>\n",
       "      <th>Habilidades</th>\n",
       "    </tr>\n",
       "  </thead>\n",
       "  <tbody>\n",
       "    <tr>\n",
       "      <th>0</th>\n",
       "      <td>4</td>\n",
       "      <td>Charmander</td>\n",
       "      <td>62</td>\n",
       "      <td>6.0</td>\n",
       "      <td>85.0</td>\n",
       "      <td>blaze, solar-power</td>\n",
       "    </tr>\n",
       "    <tr>\n",
       "      <th>1</th>\n",
       "      <td>5</td>\n",
       "      <td>Charmeleon</td>\n",
       "      <td>142</td>\n",
       "      <td>11.0</td>\n",
       "      <td>190.0</td>\n",
       "      <td>blaze, solar-power</td>\n",
       "    </tr>\n",
       "    <tr>\n",
       "      <th>2</th>\n",
       "      <td>6</td>\n",
       "      <td>Charizard</td>\n",
       "      <td>267</td>\n",
       "      <td>17.0</td>\n",
       "      <td>905.0</td>\n",
       "      <td>blaze, solar-power</td>\n",
       "    </tr>\n",
       "  </tbody>\n",
       "</table>\n",
       "</div>"
      ],
      "text/plain": [
       "   Id        Nome  Experiência Base  Altura   Peso         Habilidades\n",
       "0   4  Charmander                62     6.0   85.0  blaze, solar-power\n",
       "1   5  Charmeleon               142    11.0  190.0  blaze, solar-power\n",
       "2   6   Charizard               267    17.0  905.0  blaze, solar-power"
      ]
     },
     "metadata": {},
     "output_type": "display_data"
    }
   ],
   "source": [
    "with sqlite3.connect('pokemons_v4.db') as conn:\n",
    "    df_val = pd.read_sql('SELECT * FROM tabela_pokemons', conn)\n",
    "display(df_val)"
   ]
  },
  {
   "cell_type": "markdown",
   "metadata": {},
   "source": [
    "## Etapa 6: Sistema de Alerta"
   ]
  },
  {
   "cell_type": "code",
   "execution_count": 7,
   "metadata": {},
   "outputs": [
    {
     "name": "stdout",
     "output_type": "stream",
     "text": [
      "🚨 Alerta: Charizard possui experiência base elevada: 267\n"
     ]
    }
   ],
   "source": [
    "for _, row in df_pokemons.iterrows():\n",
    "    if row['Experiência Base'] > 200:\n",
    "        alerta(f\"{row['Nome']} possui experiência base elevada: {row['Experiência Base']}\")"
   ]
  },
  {
   "cell_type": "markdown",
   "metadata": {},
   "source": [
    "### 🔍 Conclusão\n",
    "\n",
    "Este notebook demonstrou um processo completo de extração, transformação, armazenamento e validação de dados, utilizando a API oficial PokéAPI para os Pokémons **Charmander**, **Charmeleon** e **Charizard**.\n",
    "\n",
    "As principais etapas realizadas foram:\n",
    "\n",
    "- Definição de uma função `alerta()` para gerar mensagens personalizadas em caso de erro ou eventos importantes.\n",
    "- Acesso à API com `requests` para obter dados brutos dos Pokémons, incluindo suas habilidades.\n",
    "- Organização dos dados principais em tabelas com `pandas`, incorporando nome, experiência base, altura, peso, ID e habilidades.\n",
    "- Tratamento dos dados, incluindo padronização de nomes, tipos de variáveis (`float`) e preenchimento de valores ausentes.\n",
    "- Armazenamento dos dados tratados em um banco de dados SQLite (`pokemons_v4.db`) na tabela `tabela_pokemons`.\n",
    "- Validação dos dados armazenados ao ler diretamente do banco de dados e exibir os resultados.\n",
    "- Implementação de um sistema de alerta avançado, que detecta automaticamente Pokémons com mais de 200 de experiência base e exibe mensagens de notificação.\n",
    "\n",
    "Este projeto serviu como prática de integração de múltiplas fontes de dados, manipulação com `pandas`, persistência em banco de dados com `sqlite3` e criação de sistemas automáticos de alerta, consolidando conceitos importantes para projetos de dados no mundo real.\n",
    "\n",
    "\n"
   ]
  }
 ],
 "metadata": {
  "kernelspec": {
   "display_name": "venv",
   "language": "python",
   "name": "python3"
  },
  "language_info": {
   "codemirror_mode": {
    "name": "ipython",
    "version": 3
   },
   "file_extension": ".py",
   "mimetype": "text/x-python",
   "name": "python",
   "nbconvert_exporter": "python",
   "pygments_lexer": "ipython3",
   "version": "3.13.2"
  }
 },
 "nbformat": 4,
 "nbformat_minor": 2
}
