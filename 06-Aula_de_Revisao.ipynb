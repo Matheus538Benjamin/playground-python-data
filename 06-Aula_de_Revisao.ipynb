{
 "cells": [
  {
   "cell_type": "markdown",
   "metadata": {},
   "source": [
    "# Aula de Revisão + GitHub"
   ]
  },
  {
   "cell_type": "markdown",
   "metadata": {},
   "source": [
    "## Fluxos Sequenciais\n",
    "\n",
    "Faça um Programa que pergunte quanto você ganha por hora e o número de horas trabalhadas no mês. Calcule e mostre o total do seu salário no referido mês, sabendo-se que são descontados 11% para o Imposto de Renda, 8% para o INSS e 5% para o sindicato, faça um programa que nos dê:\n",
    "salário bruto.\n",
    "quanto pagou ao INSS.\n",
    "quanto pagou ao sindicato.\n",
    "o salário líquido.\n",
    "calcule os descontos e o salário líquido, conforme a tabela abaixo:\n",
    "\n",
    "``` \n",
    " - Salário Bruto : R$\n",
    " - IR (11%) : R$\n",
    " - INSS (8%) : R$\n",
    " - Sindicato (5%) : R$\n",
    " = Salário Liquido : R$\n",
    "```"
   ]
  },
  {
   "cell_type": "code",
   "execution_count": null,
   "metadata": {},
   "outputs": [],
   "source": [
    "# solução\n",
    "\n",
    "# pedir ao usuário o seu valor por hora\n",
    "valor_hora = float(input(\"Qual o seu valor por hora? \"))\n",
    "# pedir ao usuário o número de horas trabalhadas no mês\n",
    "horas_trabalhadas = float(input(\"Quantas horas trabalhadas no mês? \"))\n",
    "\n",
    "# multiplico os dois valores anteriores e guardo numa variável chamada salário bruto\n",
    "salario_bruto = valor_hora * horas_trabalhadas\n",
    "\n",
    "# para saber o que pagar de IR, multiplico o salário bruto vezes 11% e guardo numa variável\n",
    "ir = salario_bruto * 0.11\n",
    "\n",
    "# para saber o que pagar de INSS, multiplico o salário bruto vezes 8% e guardo numa variável\n",
    "inss = salario_bruto * 0.08\n",
    "\n",
    "# para saber o que pagar de sindicato, multiplico o salário bruto vezes 5% e guardo numa variável\n",
    "sindicato = salario_bruto * 0.05\n",
    "\n",
    "# imprimo a tabela conforme solicitado\n",
    "print(f\"- Salário bruto: R$ {salario_bruto:.2f}\")\n",
    "print(f\"- IR (11%): R$ {ir:.2f}\")\n",
    "print(f\"- INSS (8%): R$ {inss:.2f}\")\n",
    "print(f\"- Sindicato (5%): R$ {sindicato:.2f}\")\n",
    "print(f\"= Salário Liquido: R$ {salario_bruto - ir - inss - sindicato:.2f}\")\n",
    "\n"
   ]
  },
  {
   "cell_type": "markdown",
   "metadata": {},
   "source": [
    "## Fluxos Condicionais"
   ]
  },
  {
   "cell_type": "markdown",
   "metadata": {},
   "source": [
    "Faça um programa que faça 5 perguntas para uma pessoa sobre um crime. As perguntas são:\n",
    "\n",
    "\"Telefonou para a vítima?\"\n",
    "\"Esteve no local do crime?\"\n",
    "\"Mora perto da vítima?\"\n",
    "\"Devia para a vítima?\"\n",
    "\"Já trabalhou com a vítima?\" \n",
    "\n",
    "O programa deve no final emitir uma classificação sobre a participação da pessoa no crime. Se a pessoa responder positivamente a 2 questões ela deve ser classificada como \"Suspeita\", entre 3 e 4 como \"Cúmplice\" e 5 como \"Assassino\". Caso contrário, ele será classificado como \"Inocente\"."
   ]
  },
  {
   "cell_type": "code",
   "execution_count": null,
   "metadata": {},
   "outputs": [],
   "source": [
    "# solução\n",
    "\n",
    "# cria uma tupla (para não permitir alteração) com todas as perguntas\n",
    "perguntas = (\"Telefonou para a vítima?\", \"Esteve no local do crime?\", \"Mora perto da vitima?\", \"Devia para a vitima?\", \"Ja trabalhou com a vitima?\")\n",
    "\n",
    "# cria uma variável para armazenar as respostas\n",
    "respostas = 0\n",
    "\n",
    "# orientar para que ele responda 0 (não) ou 1 (sim)\n",
    "print(\"Digite 0 para não ou 1 para sim\")\n",
    "# perguntar ao usuário seguindo a lista\n",
    "for pergunta in perguntas: \n",
    "    # a cada resposta, some a variável 0 (não) ou 1 (sim)\n",
    "    respostas += int(input(pergunta))\n",
    "\n",
    "# se a quantidade de respostas positivas for igual a 2, imprimir \"suspeito\"\n",
    "if (respostas == 2):\n",
    "    print(\"Suspeita\")\n",
    "\n",
    "# se a quantidade de respostas positivas for entre 3 e 4, imprimir \"cúmplice\"\n",
    "elif (respostas == 3 or respostas == 4):\n",
    "    print(\"Cúmplice\")\n",
    "\n",
    "# se a quantidade de respostas positivas for igual a 5, imprimir \"assassino\"\n",
    "elif (respostas == 5):\n",
    "    print(\"Assassino\")\n",
    "\n",
    "# caso contrário, imprimir \"inocente\"\n",
    "else:\n",
    "    print(\"Inocente\")"
   ]
  },
  {
   "cell_type": "markdown",
   "metadata": {},
   "source": [
    "## Fluxos de Repetição"
   ]
  },
  {
   "cell_type": "markdown",
   "metadata": {},
   "source": [
    "Crie um programa em Python que solicita ao usuário uma senha numérica de 4 dígitos. O programa deve repetir essa solicitação até que o usuário informe a senha correta (1234). "
   ]
  },
  {
   "cell_type": "code",
   "execution_count": null,
   "metadata": {},
   "outputs": [],
   "source": [
    "# solução"
   ]
  }
 ],
 "metadata": {
  "kernelspec": {
   "display_name": "Python 3",
   "language": "python",
   "name": "python3"
  },
  "language_info": {
   "codemirror_mode": {
    "name": "ipython",
    "version": 3
   },
   "file_extension": ".py",
   "mimetype": "text/x-python",
   "name": "python",
   "nbconvert_exporter": "python",
   "pygments_lexer": "ipython3",
   "version": "3.11.5"
  }
 },
 "nbformat": 4,
 "nbformat_minor": 2
}
